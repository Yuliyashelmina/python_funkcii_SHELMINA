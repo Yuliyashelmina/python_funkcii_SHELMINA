{
 "cells": [
  {
   "cell_type": "code",
   "execution_count": null,
   "metadata": {
    "scrolled": true
   },
   "outputs": [
    {
     "name": "stdout",
     "output_type": "stream",
     "text": [
      "Введите команду ds\n",
      "Введите номер полки 4\n",
      "Такой полки не существует. Текущий перечень полок:1, 2, 3\n"
     ]
    }
   ],
   "source": [
    "documents = [\n",
    "    {\"type\": \"passport\", \"number\": \"2207 876234\", \"name\": \"Василий Гупкин\"},\n",
    "    {\"type\": \"invoice\", \"number\": \"11-2\", \"name\": \"Геннадий Покемонов\"},\n",
    "    {\"type\": \"insurance\", \"number\": \"10006\", \"name\": \"Аристарх Павлов\"}\n",
    "]\n",
    " \n",
    "directories = {\n",
    "    '1': ['2207 876234', '11-2'],\n",
    "    '2': ['10006'],\n",
    "    '3': []\n",
    "}\n",
    "def multi_pass():\n",
    "    docnum = input('Введите номер документа:')\n",
    "    for document in documents:\n",
    "        if docnum ==  document['number']:\n",
    "            print('Владелец документа: ', document['name'])\n",
    "            break\n",
    "    else:\n",
    "        print('Документ не найден в базе')\n",
    " \n",
    " \n",
    "def shelf(directories):\n",
    "    x = input(\"Номер документа \")\n",
    "    for i in directories.items():\n",
    "        if x in i[1]:\n",
    "            print('Документ хранится на полке:', i [0])\n",
    "    else:\n",
    "      print('Такой документ не существует')\n",
    " \n",
    "def shelf_num(dir, value):\n",
    "        for shelfnum, numbers in directories.items():\n",
    "            if value in numbers:\n",
    "                return shelfnum\n",
    "\n",
    "def all_docs():\n",
    "    for docs in documents:\n",
    "        print('№: ', docs['number'], 'тип:', docs['type'], \\\n",
    "        'владелец:', docs['name'], 'полка хранения: ', shelf_num(directories, docs['number']))\n",
    "    \n",
    " \n",
    " \n",
    "def add(directories, documents):\n",
    "    number = input(\"Введите номер новой полки: \")\n",
    "    if number in directories:\n",
    "        print('Такая полка уже существует. Текущий перечень полок:' + ','.join(directories.keys()))\n",
    "    else:\n",
    "       directories[number] = []\n",
    "    print('Полка добавлена. Текущий перечень полок:' + ','.join(directories.keys()))\n",
    "  \n",
    "\n",
    "def rem_shelf(number):\n",
    "    number = input('Введите номер полки ')\n",
    "    if number in directories:\n",
    "        if len(directories[number]) > 0:\n",
    "            print('На полке есть документы, удалите их перед удалением полки. Текущий перечень полок: ' + ', '.join(directories.keys()))\n",
    "            return\n",
    "        del directories[number]\n",
    "        print('Полка удалена. Текущий перечень полок: ' + ', '.join(directories.keys()))\n",
    "        return\n",
    "    else:\n",
    "        print('Такой полки не существует. Текущий перечень полок:' + ', '.join(directories.keys()))\n",
    "    \n",
    "def main ():\n",
    "  while True:\n",
    "    user_input = input('Введите команду ')\n",
    "    if user_input == 'p':\n",
    "        (multi_pass())\n",
    "    elif user_input == 's':\n",
    "        shelf(directories)\n",
    "    elif user_input == 'l':\n",
    "        all_docs()\n",
    "    elif user_input == 'as':\n",
    "         add (directories, documents)\n",
    "    elif user_input == 'ds':\n",
    "         rem_shelf(directories)\n",
    "    elif user_input == 'q':\n",
    "         print('Завершение программы')\n",
    "         break\n",
    "    else:\n",
    "        print('Неадекватная команда, введите корректную команду или завершите работу командой q')\n",
    "\n",
    "main()"
   ]
  },
  {
   "cell_type": "code",
   "execution_count": null,
   "metadata": {},
   "outputs": [],
   "source": []
  }
 ],
 "metadata": {
  "kernelspec": {
   "display_name": "Python 3",
   "language": "python",
   "name": "python3"
  },
  "language_info": {
   "codemirror_mode": {
    "name": "ipython",
    "version": 3
   },
   "file_extension": ".py",
   "mimetype": "text/x-python",
   "name": "python",
   "nbconvert_exporter": "python",
   "pygments_lexer": "ipython3",
   "version": "3.8.5"
  }
 },
 "nbformat": 4,
 "nbformat_minor": 4
}
